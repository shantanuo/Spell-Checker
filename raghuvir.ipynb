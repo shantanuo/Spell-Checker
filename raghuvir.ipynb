{
 "cells": [
  {
   "cell_type": "code",
   "execution_count": null,
   "id": "078d133a",
   "metadata": {},
   "outputs": [],
   "source": [
    "# https://drive.google.com/drive/folders/1yN-6mGDY6XEmiUrZe2lu1NfRBiK2WjNJ\n",
    "# https://drive.google.com/drive/folders/1hF2gyPKGfn4QzYfSnxgvyglr_v4kykNb\n",
    "# s3://gamabhana/dict/raghuvir/english_to_hindi.tsv.gz"
   ]
  },
  {
   "cell_type": "code",
   "execution_count": 1,
   "id": "8cd3936a",
   "metadata": {},
   "outputs": [],
   "source": [
    "import pandas as pd\n",
    "import numpy as np\n",
    "import boto3"
   ]
  },
  {
   "cell_type": "code",
   "execution_count": 2,
   "id": "bc5fb0a7",
   "metadata": {},
   "outputs": [],
   "source": [
    "myheading = ['english', 'type' , 'hindi']\n",
    "\n",
    "df = pd.read_csv('/home/ubuntu/raghuvir/final.tsv', sep = '\\t', names = myheading)"
   ]
  },
  {
   "cell_type": "code",
   "execution_count": 3,
   "id": "65111c78",
   "metadata": {},
   "outputs": [],
   "source": [
    "df=df.dropna(subset = ['english'])"
   ]
  },
  {
   "cell_type": "code",
   "execution_count": 4,
   "id": "a408a08f",
   "metadata": {},
   "outputs": [],
   "source": [
    "df=df.dropna(subset = ['hindi'])"
   ]
  },
  {
   "cell_type": "code",
   "execution_count": 5,
   "id": "76499322",
   "metadata": {},
   "outputs": [],
   "source": [
    "df.english = df.english.str.lower()\n",
    "df.type = df.type.str.lower()"
   ]
  },
  {
   "cell_type": "code",
   "execution_count": 6,
   "id": "e52dd6b7",
   "metadata": {},
   "outputs": [],
   "source": [
    "threshold = 100\n",
    "type_counts = df['type'].value_counts()\n",
    "\n",
    "types_below_threshold = type_counts[type_counts < threshold].index\n",
    "\n",
    "df.loc[df['type'].isin(types_below_threshold), 'type'] = ''"
   ]
  },
  {
   "cell_type": "code",
   "execution_count": 7,
   "id": "3158d193",
   "metadata": {},
   "outputs": [],
   "source": [
    "#df['extract'] = df['hindi'].str.extract('(\\s[A-Za-z]+\\.)', expand=True)\n",
    "# df.extract.value_counts().to_dict()"
   ]
  },
  {
   "cell_type": "code",
   "execution_count": 8,
   "id": "67ec9813",
   "metadata": {},
   "outputs": [],
   "source": [
    "mylist = {' m.': 'masculine',\n",
    " ' n.': 'noun common',\n",
    " ' f.': 'feminine',\n",
    " ' Ind.': 'Industrial',\n",
    " ' Chem.': 'chemistry',\n",
    " ' Bot.': 'botany',\n",
    " ' Zool.':  'zoology',\n",
    " ' Pharm.':  'pharmaceutical',\n",
    " ' I.':  'interjection',\n",
    " ' Astron.':  'Astronomy',\n",
    " ' adj.': 'Adjective',\n",
    " ' p.': 'plural',\n",
    " ' Anat.':  'Anatomy',\n",
    " ' Tax.': 'law',\n",
    " ' Math.':  'mathematics',\n",
    " ' Col.': 'colonial',\n",
    " ' Phys.':  'physics',\n",
    " ' Med.': 'medicine',\n",
    " ' N.': 'Noun Proper',\n",
    " ' Pathol.': 'Pathology',\n",
    " ' M.': 'masculine',\n",
    " ' Biol.':  'biology',\n",
    " ' Biochem.':  'Biochemistry',\n",
    " ' Gk.':  'General Knoledge',\n",
    " ' Mineral.':  'Mineral',\n",
    " ' Rly.': 'Railway',\n",
    " ' vb.': 'verb',\n",
    " ' Ecol.': 'ecology',\n",
    " ' Geol.': 'Geology',\n",
    " ' Eng.': 'engineering',\n",
    " ' Geog.': 'geography',\n",
    " ' Physiol.': 'Physiology',\n",
    " ' Mil.': 'military science',\n",
    " ' Econ.': 'economics',\n",
    " ' Metal.': 'Metal',\n",
    " ' Paleontol.': 'Paleontology',\n",
    " ' Engin.': 'engineering',\n",
    " ' Bact.':  'bacteriology',\n",
    " ' Psychol.': 'psychology',\n",
    " ' Admin.': 'administration',\n",
    " ' Educ.': 'education'\n",
    "}"
   ]
  },
  {
   "cell_type": "code",
   "execution_count": 9,
   "id": "e9a72a80",
   "metadata": {},
   "outputs": [],
   "source": [
    "df['type2'] = ''\n",
    "\n",
    "for i in mylist:\n",
    "    mask = df['hindi'].str.contains(i, na=True)\n",
    "    df.loc[mask, 'type2'] = mylist[i] + ' '"
   ]
  },
  {
   "cell_type": "code",
   "execution_count": 10,
   "id": "c3f8fcbb",
   "metadata": {},
   "outputs": [],
   "source": [
    "df = df.fillna('')"
   ]
  },
  {
   "cell_type": "code",
   "execution_count": 11,
   "id": "3611c51c",
   "metadata": {},
   "outputs": [],
   "source": [
    "df = df.tail(30000)"
   ]
  },
  {
   "cell_type": "code",
   "execution_count": 12,
   "id": "5c99a507",
   "metadata": {},
   "outputs": [],
   "source": [
    "df.to_csv('english_to_hindi2.tsv', sep='\\t', index=False)"
   ]
  },
  {
   "cell_type": "code",
   "execution_count": 13,
   "id": "40a249c9",
   "metadata": {},
   "outputs": [],
   "source": [
    "myl=df.T.to_dict().values()"
   ]
  },
  {
   "cell_type": "code",
   "execution_count": 14,
   "id": "ab88ec46",
   "metadata": {},
   "outputs": [],
   "source": [
    "# Connect to DynamoDB using boto\n",
    "\n",
    "MY_ACCESS_KEY_ID = 'xxx'\n",
    "MY_SECRET_ACCESS_KEY = 'xxx'"
   ]
  },
  {
   "cell_type": "code",
   "execution_count": 15,
   "id": "ce1e76a3",
   "metadata": {},
   "outputs": [],
   "source": [
    "resource = boto3.resource('dynamodb', aws_access_key_id=MY_ACCESS_KEY_ID, \n",
    "                          aws_secret_access_key=MY_SECRET_ACCESS_KEY, region_name='us-east-1')\n",
    "\n",
    "# Connect to the DynamoDB table\n",
    "\n",
    "table = resource.Table('raghuvir4')"
   ]
  },
  {
   "cell_type": "code",
   "execution_count": null,
   "id": "6228d130",
   "metadata": {},
   "outputs": [],
   "source": [
    "# Load the JSON object created in the step 3 using put_item method\n",
    "\n",
    "for student in myl:\n",
    "    table.put_item(Item=student)"
   ]
  },
  {
   "cell_type": "code",
   "execution_count": null,
   "id": "1bb11483",
   "metadata": {},
   "outputs": [],
   "source": []
  }
 ],
 "metadata": {
  "kernelspec": {
   "display_name": "Python 3 (ipykernel)",
   "language": "python",
   "name": "python3"
  },
  "language_info": {
   "codemirror_mode": {
    "name": "ipython",
    "version": 3
   },
   "file_extension": ".py",
   "mimetype": "text/x-python",
   "name": "python",
   "nbconvert_exporter": "python",
   "pygments_lexer": "ipython3",
   "version": "3.10.12"
  }
 },
 "nbformat": 4,
 "nbformat_minor": 5
}
